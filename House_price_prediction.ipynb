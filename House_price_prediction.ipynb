{
  "nbformat": 4,
  "nbformat_minor": 0,
  "metadata": {
    "colab": {
      "name": "House price prediction.ipynb",
      "provenance": [],
      "collapsed_sections": [],
      "authorship_tag": "ABX9TyM5eKe+hpfzGEX0glzOywde",
      "include_colab_link": true
    },
    "kernelspec": {
      "name": "python3",
      "display_name": "Python 3"
    },
    "language_info": {
      "name": "python"
    }
  },
  "cells": [
    {
      "cell_type": "markdown",
      "metadata": {
        "id": "view-in-github",
        "colab_type": "text"
      },
      "source": [
        "<a href=\"https://colab.research.google.com/github/p1kalys/House-price-prediction/blob/main/House_price_prediction.ipynb\" target=\"_parent\"><img src=\"https://colab.research.google.com/assets/colab-badge.svg\" alt=\"Open In Colab\"/></a>"
      ]
    },
    {
      "cell_type": "code",
      "metadata": {
        "id": "L3Dn7up-kLgs"
      },
      "source": [
        "import numpy as np\n",
        "\n",
        "import pandas as pd\n",
        "import pickle"
      ],
      "execution_count": 3,
      "outputs": []
    },
    {
      "cell_type": "code",
      "metadata": {
        "colab": {
          "base_uri": "https://localhost:8080/",
          "height": 437
        },
        "id": "RtFfBJEqktTY",
        "outputId": "4b731760-691b-4d92-bac0-570e46ab1135"
      },
      "source": [
        "df = pd.read_csv('https://raw.githubusercontent.com/p1kalys/House-price-prediction/main/House_price_dataset.csv')\n",
        "df"
      ],
      "execution_count": 4,
      "outputs": [
        {
          "output_type": "execute_result",
          "data": {
            "text/html": [
              "<div>\n",
              "<style scoped>\n",
              "    .dataframe tbody tr th:only-of-type {\n",
              "        vertical-align: middle;\n",
              "    }\n",
              "\n",
              "    .dataframe tbody tr th {\n",
              "        vertical-align: top;\n",
              "    }\n",
              "\n",
              "    .dataframe thead th {\n",
              "        text-align: right;\n",
              "    }\n",
              "</style>\n",
              "<table border=\"1\" class=\"dataframe\">\n",
              "  <thead>\n",
              "    <tr style=\"text-align: right;\">\n",
              "      <th></th>\n",
              "      <th>land_size_sqm</th>\n",
              "      <th>house_size_sqm</th>\n",
              "      <th>no_of_rooms</th>\n",
              "      <th>no_of_bathrooms</th>\n",
              "      <th>large_living_room</th>\n",
              "      <th>parking_space</th>\n",
              "      <th>front_garden</th>\n",
              "      <th>swimming_pool</th>\n",
              "      <th>distance_to_school_km</th>\n",
              "      <th>wall_fence</th>\n",
              "      <th>house_age_or_renovated</th>\n",
              "      <th>water_front</th>\n",
              "      <th>distance_to_supermarket_km</th>\n",
              "      <th>property_value</th>\n",
              "    </tr>\n",
              "  </thead>\n",
              "  <tbody>\n",
              "    <tr>\n",
              "      <th>0</th>\n",
              "      <td>201</td>\n",
              "      <td>177</td>\n",
              "      <td>3</td>\n",
              "      <td>1</td>\n",
              "      <td>0</td>\n",
              "      <td>1</td>\n",
              "      <td>1</td>\n",
              "      <td>0</td>\n",
              "      <td>3.3</td>\n",
              "      <td>1</td>\n",
              "      <td>10</td>\n",
              "      <td>0</td>\n",
              "      <td>6.8</td>\n",
              "      <td>167611</td>\n",
              "    </tr>\n",
              "    <tr>\n",
              "      <th>1</th>\n",
              "      <td>196</td>\n",
              "      <td>182</td>\n",
              "      <td>4</td>\n",
              "      <td>3</td>\n",
              "      <td>1</td>\n",
              "      <td>1</td>\n",
              "      <td>0</td>\n",
              "      <td>1</td>\n",
              "      <td>1.2</td>\n",
              "      <td>1</td>\n",
              "      <td>11</td>\n",
              "      <td>0</td>\n",
              "      <td>4.1</td>\n",
              "      <td>186945</td>\n",
              "    </tr>\n",
              "    <tr>\n",
              "      <th>2</th>\n",
              "      <td>198</td>\n",
              "      <td>182</td>\n",
              "      <td>4</td>\n",
              "      <td>4</td>\n",
              "      <td>1</td>\n",
              "      <td>1</td>\n",
              "      <td>0</td>\n",
              "      <td>1</td>\n",
              "      <td>5.9</td>\n",
              "      <td>0</td>\n",
              "      <td>20</td>\n",
              "      <td>0</td>\n",
              "      <td>2.1</td>\n",
              "      <td>154628</td>\n",
              "    </tr>\n",
              "    <tr>\n",
              "      <th>3</th>\n",
              "      <td>178</td>\n",
              "      <td>166</td>\n",
              "      <td>2</td>\n",
              "      <td>3</td>\n",
              "      <td>0</td>\n",
              "      <td>1</td>\n",
              "      <td>0</td>\n",
              "      <td>0</td>\n",
              "      <td>5.9</td>\n",
              "      <td>0</td>\n",
              "      <td>5</td>\n",
              "      <td>0</td>\n",
              "      <td>0.7</td>\n",
              "      <td>133099</td>\n",
              "    </tr>\n",
              "    <tr>\n",
              "      <th>4</th>\n",
              "      <td>183</td>\n",
              "      <td>165</td>\n",
              "      <td>3</td>\n",
              "      <td>1</td>\n",
              "      <td>1</td>\n",
              "      <td>1</td>\n",
              "      <td>0</td>\n",
              "      <td>0</td>\n",
              "      <td>3.8</td>\n",
              "      <td>1</td>\n",
              "      <td>8</td>\n",
              "      <td>0</td>\n",
              "      <td>0.7</td>\n",
              "      <td>158481</td>\n",
              "    </tr>\n",
              "    <tr>\n",
              "      <th>...</th>\n",
              "      <td>...</td>\n",
              "      <td>...</td>\n",
              "      <td>...</td>\n",
              "      <td>...</td>\n",
              "      <td>...</td>\n",
              "      <td>...</td>\n",
              "      <td>...</td>\n",
              "      <td>...</td>\n",
              "      <td>...</td>\n",
              "      <td>...</td>\n",
              "      <td>...</td>\n",
              "      <td>...</td>\n",
              "      <td>...</td>\n",
              "      <td>...</td>\n",
              "    </tr>\n",
              "    <tr>\n",
              "      <th>4949</th>\n",
              "      <td>297</td>\n",
              "      <td>261</td>\n",
              "      <td>4</td>\n",
              "      <td>4</td>\n",
              "      <td>1</td>\n",
              "      <td>1</td>\n",
              "      <td>1</td>\n",
              "      <td>1</td>\n",
              "      <td>2.9</td>\n",
              "      <td>1</td>\n",
              "      <td>20</td>\n",
              "      <td>0</td>\n",
              "      <td>4.1</td>\n",
              "      <td>254547</td>\n",
              "    </tr>\n",
              "    <tr>\n",
              "      <th>4950</th>\n",
              "      <td>302</td>\n",
              "      <td>282</td>\n",
              "      <td>4</td>\n",
              "      <td>2</td>\n",
              "      <td>1</td>\n",
              "      <td>1</td>\n",
              "      <td>1</td>\n",
              "      <td>1</td>\n",
              "      <td>3.8</td>\n",
              "      <td>1</td>\n",
              "      <td>12</td>\n",
              "      <td>1</td>\n",
              "      <td>4.8</td>\n",
              "      <td>299788</td>\n",
              "    </tr>\n",
              "    <tr>\n",
              "      <th>4951</th>\n",
              "      <td>153</td>\n",
              "      <td>147</td>\n",
              "      <td>3</td>\n",
              "      <td>4</td>\n",
              "      <td>1</td>\n",
              "      <td>1</td>\n",
              "      <td>0</td>\n",
              "      <td>0</td>\n",
              "      <td>3.3</td>\n",
              "      <td>1</td>\n",
              "      <td>7</td>\n",
              "      <td>0</td>\n",
              "      <td>4.7</td>\n",
              "      <td>138088</td>\n",
              "    </tr>\n",
              "    <tr>\n",
              "      <th>4952</th>\n",
              "      <td>180</td>\n",
              "      <td>158</td>\n",
              "      <td>2</td>\n",
              "      <td>1</td>\n",
              "      <td>0</td>\n",
              "      <td>1</td>\n",
              "      <td>0</td>\n",
              "      <td>1</td>\n",
              "      <td>2.2</td>\n",
              "      <td>0</td>\n",
              "      <td>1</td>\n",
              "      <td>0</td>\n",
              "      <td>3.4</td>\n",
              "      <td>151907</td>\n",
              "    </tr>\n",
              "    <tr>\n",
              "      <th>4953</th>\n",
              "      <td>695</td>\n",
              "      <td>619</td>\n",
              "      <td>8</td>\n",
              "      <td>6</td>\n",
              "      <td>1</td>\n",
              "      <td>1</td>\n",
              "      <td>1</td>\n",
              "      <td>1</td>\n",
              "      <td>0.4</td>\n",
              "      <td>1</td>\n",
              "      <td>5</td>\n",
              "      <td>0</td>\n",
              "      <td>0.4</td>\n",
              "      <td>566249</td>\n",
              "    </tr>\n",
              "  </tbody>\n",
              "</table>\n",
              "<p>4954 rows × 14 columns</p>\n",
              "</div>"
            ],
            "text/plain": [
              "      land_size_sqm  house_size_sqm  ...  distance_to_supermarket_km  property_value\n",
              "0               201             177  ...                         6.8          167611\n",
              "1               196             182  ...                         4.1          186945\n",
              "2               198             182  ...                         2.1          154628\n",
              "3               178             166  ...                         0.7          133099\n",
              "4               183             165  ...                         0.7          158481\n",
              "...             ...             ...  ...                         ...             ...\n",
              "4949            297             261  ...                         4.1          254547\n",
              "4950            302             282  ...                         4.8          299788\n",
              "4951            153             147  ...                         4.7          138088\n",
              "4952            180             158  ...                         3.4          151907\n",
              "4953            695             619  ...                         0.4          566249\n",
              "\n",
              "[4954 rows x 14 columns]"
            ]
          },
          "metadata": {
            "tags": []
          },
          "execution_count": 4
        }
      ]
    },
    {
      "cell_type": "code",
      "metadata": {
        "colab": {
          "base_uri": "https://localhost:8080/"
        },
        "id": "eZVPfGF3lM6U",
        "outputId": "f80b567a-4287-46bc-dd01-6930f988c0de"
      },
      "source": [
        "df.shape"
      ],
      "execution_count": 5,
      "outputs": [
        {
          "output_type": "execute_result",
          "data": {
            "text/plain": [
              "(4954, 14)"
            ]
          },
          "metadata": {
            "tags": []
          },
          "execution_count": 5
        }
      ]
    },
    {
      "cell_type": "code",
      "metadata": {
        "colab": {
          "base_uri": "https://localhost:8080/"
        },
        "id": "hOaMAJIJmQqX",
        "outputId": "0f789074-a7af-46db-bef9-11afc093ecb8"
      },
      "source": [
        "df.info()"
      ],
      "execution_count": 6,
      "outputs": [
        {
          "output_type": "stream",
          "text": [
            "<class 'pandas.core.frame.DataFrame'>\n",
            "RangeIndex: 4954 entries, 0 to 4953\n",
            "Data columns (total 14 columns):\n",
            " #   Column                      Non-Null Count  Dtype  \n",
            "---  ------                      --------------  -----  \n",
            " 0   land_size_sqm               4954 non-null   int64  \n",
            " 1   house_size_sqm              4954 non-null   int64  \n",
            " 2   no_of_rooms                 4954 non-null   int64  \n",
            " 3   no_of_bathrooms             4954 non-null   int64  \n",
            " 4   large_living_room           4954 non-null   int64  \n",
            " 5   parking_space               4954 non-null   int64  \n",
            " 6   front_garden                4954 non-null   int64  \n",
            " 7   swimming_pool               4954 non-null   int64  \n",
            " 8   distance_to_school_km       4954 non-null   float64\n",
            " 9   wall_fence                  4954 non-null   int64  \n",
            " 10  house_age_or_renovated      4954 non-null   int64  \n",
            " 11  water_front                 4954 non-null   int64  \n",
            " 12  distance_to_supermarket_km  4954 non-null   float64\n",
            " 13  property_value              4954 non-null   int64  \n",
            "dtypes: float64(2), int64(12)\n",
            "memory usage: 542.0 KB\n"
          ],
          "name": "stdout"
        }
      ]
    },
    {
      "cell_type": "code",
      "metadata": {
        "colab": {
          "base_uri": "https://localhost:8080/"
        },
        "id": "DtQN8mh-P3Rz",
        "outputId": "bb0aea66-e227-48d0-995d-7e597b3e39ff"
      },
      "source": [
        "df.isnull().sum()"
      ],
      "execution_count": 7,
      "outputs": [
        {
          "output_type": "execute_result",
          "data": {
            "text/plain": [
              "land_size_sqm                 0\n",
              "house_size_sqm                0\n",
              "no_of_rooms                   0\n",
              "no_of_bathrooms               0\n",
              "large_living_room             0\n",
              "parking_space                 0\n",
              "front_garden                  0\n",
              "swimming_pool                 0\n",
              "distance_to_school_km         0\n",
              "wall_fence                    0\n",
              "house_age_or_renovated        0\n",
              "water_front                   0\n",
              "distance_to_supermarket_km    0\n",
              "property_value                0\n",
              "dtype: int64"
            ]
          },
          "metadata": {
            "tags": []
          },
          "execution_count": 7
        }
      ]
    },
    {
      "cell_type": "code",
      "metadata": {
        "colab": {
          "base_uri": "https://localhost:8080/"
        },
        "id": "rzbCSP7CR314",
        "outputId": "d242c7f7-5e07-4368-a533-0f3ea259868c"
      },
      "source": [
        "df = df.astype(int)\n",
        "df.dtypes"
      ],
      "execution_count": 8,
      "outputs": [
        {
          "output_type": "execute_result",
          "data": {
            "text/plain": [
              "land_size_sqm                 int64\n",
              "house_size_sqm                int64\n",
              "no_of_rooms                   int64\n",
              "no_of_bathrooms               int64\n",
              "large_living_room             int64\n",
              "parking_space                 int64\n",
              "front_garden                  int64\n",
              "swimming_pool                 int64\n",
              "distance_to_school_km         int64\n",
              "wall_fence                    int64\n",
              "house_age_or_renovated        int64\n",
              "water_front                   int64\n",
              "distance_to_supermarket_km    int64\n",
              "property_value                int64\n",
              "dtype: object"
            ]
          },
          "metadata": {
            "tags": []
          },
          "execution_count": 8
        }
      ]
    },
    {
      "cell_type": "code",
      "metadata": {
        "colab": {
          "base_uri": "https://localhost:8080/",
          "height": 418
        },
        "id": "7XG3jAuWsqyH",
        "outputId": "7a87a9db-d84b-489b-bfa6-bec267e72740"
      },
      "source": [
        "import seaborn as sns\n",
        "sns.heatmap(df.isnull(),yticklabels=False,cbar=False,cmap='coolwarm')"
      ],
      "execution_count": 9,
      "outputs": [
        {
          "output_type": "execute_result",
          "data": {
            "text/plain": [
              "<matplotlib.axes._subplots.AxesSubplot at 0x7fa7909886d0>"
            ]
          },
          "metadata": {
            "tags": []
          },
          "execution_count": 9
        },
        {
          "output_type": "display_data",
          "data": {
            "image/png": "[encoded data removed]",
            "text/plain": [
              "<Figure size 432x288 with 1 Axes>"
            ]
          },
          "metadata": {
            "tags": [],
            "needs_background": "light"
          }
        }
      ]
    },
    {
      "cell_type": "code",
      "metadata": {
        "id": "rnpTaHeXmJqi"
      },
      "source": [
        "x = df['land_size_sqm'].values.reshape(-1,1)\n",
        "#x = df.drop('property_value',axis=1).values\n",
        "y = df['property_value'].values"
      ],
      "execution_count": 10,
      "outputs": []
    },
    {
      "cell_type": "code",
      "metadata": {
        "id": "RFPvpnZIm6LI"
      },
      "source": [
        "from sklearn.model_selection import train_test_split\n",
        "x_train, x_test, y_train, y_test = train_test_split(x, y, test_size=0.33, random_state=42)"
      ],
      "execution_count": 11,
      "outputs": []
    },
    {
      "cell_type": "code",
      "metadata": {
        "id": "_kGyU55Pkj1v"
      },
      "source": [
        "from sklearn.linear_model import LinearRegression"
      ],
      "execution_count": 12,
      "outputs": []
    },
    {
      "cell_type": "code",
      "metadata": {
        "colab": {
          "base_uri": "https://localhost:8080/"
        },
        "id": "O2hZaa99mrpK",
        "outputId": "019a2133-0604-4c2e-ad44-0a5b3fd54ac8"
      },
      "source": [
        "model = LinearRegression()\n",
        "model.fit(x_train,y_train)\n",
        "y_pred = model.predict(x_test)\n",
        "y_pred"
      ],
      "execution_count": 13,
      "outputs": [
        {
          "output_type": "execute_result",
          "data": {
            "text/plain": [
              "array([ 88602.01193611, 246810.88303869, 110026.12989792, ...,\n",
              "       227034.77415087, 215498.71063297, 194898.59720816])"
            ]
          },
          "metadata": {
            "tags": []
          },
          "execution_count": 13
        }
      ]
    },
    {
      "cell_type": "code",
      "metadata": {
        "id": "c3rW716IoiNo",
        "colab": {
          "base_uri": "https://localhost:8080/"
        },
        "outputId": "181d5211-7906-4c8e-e82c-bb8a7c2cbc50"
      },
      "source": [
        "model.coef_"
      ],
      "execution_count": 14,
      "outputs": [
        {
          "output_type": "execute_result",
          "data": {
            "text/plain": [
              "array([824.00453699])"
            ]
          },
          "metadata": {
            "tags": []
          },
          "execution_count": 14
        }
      ]
    },
    {
      "cell_type": "code",
      "metadata": {
        "colab": {
          "base_uri": "https://localhost:8080/"
        },
        "id": "aqociWkpuSYG",
        "outputId": "6d0faec8-1ed4-482a-eabc-8c1e5d6449b0"
      },
      "source": [
        "model.intercept_"
      ],
      "execution_count": 15,
      "outputs": [
        {
          "output_type": "execute_result",
          "data": {
            "text/plain": [
              "4553.549162868439"
            ]
          },
          "metadata": {
            "tags": []
          },
          "execution_count": 15
        }
      ]
    },
    {
      "cell_type": "code",
      "metadata": {
        "colab": {
          "base_uri": "https://localhost:8080/",
          "height": 265
        },
        "id": "ZxVE9KQcuzn7",
        "outputId": "8ac92b67-45fb-4b01-889f-ef9dac17ad5c"
      },
      "source": [
        "import matplotlib.pyplot as plt\n",
        "plt.scatter(x,y)\n",
        "plt.plot(x_test,y_pred)\n",
        "plt.show()"
      ],
      "execution_count": 16,
      "outputs": [
        {
          "output_type": "display_data",
          "data": {
            "image/png": "[encoded data removed]",
            "text/plain": [
              "<Figure size 432x288 with 1 Axes>"
            ]
          },
          "metadata": {
            "tags": [],
            "needs_background": "light"
          }
        }
      ]
    },
    {
      "cell_type": "code",
      "metadata": {
        "colab": {
          "base_uri": "https://localhost:8080/"
        },
        "id": "UeNRA0JZwexN",
        "outputId": "d05036fa-b815-4636-b631-d52ed0cb5ebd"
      },
      "source": [
        "p = []\n",
        "x_in = input('Enter the land size')\n",
        "p.append(x_in)\n",
        "p = np.array(p)\n",
        "p = p.astype(np.float64).reshape(-1,1)\n",
        "y_out = model.predict(p)\n",
        "print(y_out)"
      ],
      "execution_count": 17,
      "outputs": [
        {
          "output_type": "stream",
          "text": [
            "Enter the land size154\n",
            "[131450.24785973]\n"
          ],
          "name": "stdout"
        }
      ]
    },
    {
      "cell_type": "code",
      "metadata": {
        "id": "wpswrxZgwVyM"
      },
      "source": [
        ""
      ],
      "execution_count": 17,
      "outputs": []
    }
  ]
}